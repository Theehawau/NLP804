{
 "cells": [
  {
   "cell_type": "code",
   "execution_count": null,
   "metadata": {},
   "outputs": [
    {
     "name": "stderr",
     "output_type": "stream",
     "text": [
      "/home/hawau.toyin/miniconda3/envs/speech/lib/python3.10/site-packages/torch/cuda/__init__.py:619: UserWarning: Can't initialize NVML\n",
      "  warnings.warn(\"Can't initialize NVML\")\n"
     ]
    }
   ],
   "source": [
    "import pandas as pd\n",
    "\n",
    "from transformers.models.whisper.english_normalizer import BasicTextNormalizer\n",
    "\n",
    "normalizer = BasicTextNormalizer()\n",
    "\n",
    "import re\n",
    "import sys\n",
    "import evaluate\n",
    "import unicodedata\n",
    "import pandas as pd\n",
    "\n",
    "wer = evaluate.load(\"wer\")\n",
    "cer = evaluate.load(\"cer\")\n",
    "\n",
    "from utils import strip_diacritics, remove_punctuation"
   ]
  },
  {
   "cell_type": "code",
   "execution_count": null,
   "metadata": {},
   "outputs": [],
   "source": [
    "\"\"\"\n",
    "Sample extrac sentences in LLM response, using regex we extract the diacritized words from the model response.\n",
    "\"\"\"\n",
    "\n",
    "matches_qwen = [\n",
    "r\"diacritics and accent marks added:(.*?) Note\"\n",
    "r\".Here's a possible rendition with diacritics:(.*?)- Òbè:\",\n",
    "r\"Here's the text with the appropriate diacritics:(.*?)Here's\",\n",
    "r\"Here is the text with appropriate diacritics and accent marks:(.*?)Here's\",\n",
    "r\"Here is the text with diacritics and accent marks added:(.*?). Here Explanation of\",\n",
    "r\"Here is the text with diacritics and accent marks:(.*?)Here's\",\n",
    "r\"the text with diacritics could be:(.*?)This interpretation\",\n",
    "r\"Here's a possible transcription with diacritics:(.*?)- Ō\",\n",
    "r\"possible interpretation with diacritics:(.*?)This\",\n",
    "r\"write it as:(.*?)Here\",\n",
    "r\"accent marks:(.*?)Here\",\n",
    "r\"the appropriate diacritics and accent marks:(.*?)Here's\",\n",
    "r\"Here is the text with diacritics:(.*?)Here's\",\n",
    "r\"Here is the text with diacritics:(.*?). In\",\n",
    "r\"diacritics and accent marks:(.*?)Here\",\n",
    "r\"with appropriate diacritics:(.*?)-\",\n",
    "r\"diacritics and accent marks added:(.*?)In\",\n",
    "r\"diacritics and accent marks added:(.*?).\",\n",
    "r\"write it as follows:(.*?)Here\",\n",
    "r\"should be written as:(.*?)Here\",\n",
    "r\"text with diacritics:(.*?).\",\n",
    "r\"text with diacritics:(.*?)Here\",\n",
    "r\"diacritics:(.*?).\",\n",
    "r\"with diacritics and accent marks:(.*?)-\",\n",
    "r\"with diacritics and accent marks added:(.*?).\",\n",
    "r\"Here is a version with diacritics:\\s*\\n+(.*?)\\n\",\n",
    "r'Here is the text with diacritics and accent marks:\\s*\\n*(.*?)\"',\n",
    "r\"إلى النص كالتالي:\\s*\\n+(.*?)\\n\",\n",
    "r\"Here is the text with diacritics and accent marks added:\\s*\\n+(.*?)\\n\",\n",
    "r\"當然可以，以下是帶有標點符號和重音符號的文本:\\s*\\n+(.*?)\\n\",\n",
    "r\"Here is the text with diacritics and accent marks:\\s*\\n+(.*?)\\n\",\n",
    "r\"Here's the translation with diacritics and accent marks:\\s*\\n+(.*?)\\n\",\n",
    "r\"with diacritics and accent marks:\\s*\\n+(.*?)\\n\",\n",
    "r\" مع الإشارة التائيّة والضاد والفتحة هي:\\s*\\n+(.*?)\\n\",\n",
    "r\"Here's the result:\\s*\\n+(.*?)\\n\",\n",
    "r\"diacritics and accent marks in Arabic is:\\s*\\n+(.*?)\\n\",\n",
    "r\"with diacritics and accents:\\s*\\n+(.*?)\\n\",\n",
    "r\"with diacritics and accent marks added is:\\s*\\n*(.*)\",\n",
    "r\"with diacritics and accent marks is:\\s*\\n*(.*)\",\n",
    "r\"with added diacritics and accent marks is:\\s*\\n+(.*?)\\n\",\n",
    "r\"Here is the text with added diacritics and accent marks:\\s*\\n+(.*)\",\n",
    "r\"Here is one possible way to do it:\\s*\\n*(.*)\",\n",
    "r\"you would write it as:\\s*\\n*(.*)\",\n",
    "r\"in Arabic script is:\\s*\\n*(.*)\",\n",
    "r\"diacritics and accent marks added:\\s*\\n+(.*?)\\n\",\n",
    "r\"Here it is with diacritics added for clarity:\\s*\\n+(.*?)\\n\",\n",
    "r\"Here is the text with the full diacritics:\\s*\\n+(.*?)\\n\",\n",
    "r\"Here is the text with diacritics:\\s*\\n+(.*?)\\n\",\n",
    "r\"Here is a possible version with diacritics:\\s*\\n+(.*?)\\n\",\n",
    "r\"Here it is again for clarity:\\s*\\n+(.*?)\\n\",\n",
    "r\"Here is one possible version with diacritics:\\s*\\n+(.*?)\\n\",\n",
    "r\"Here's the text with diacritics:\\s*\\n+(.*?)\\n\",\n",
    "r\"The text with diacritics and accent marks in Arabic is:\\s*\\n+(.*?)\\n\",\n",
    "r\"Here's a possible version with diacritics:\\s*\\n+(.*?)\\n\",\n",
    "r\"it would be written as:\\s*\\n+(.*?)\\n\",\n",
    "r\"it would look like this:\\s*\\n+(.*?)\\n\",\n",
    "r\"Here's one possible way to do it:\\s*\\n+(.*?)\\n\",\n",
    "r\"The text with diacritics and accent marks is:\\s*\\n*(.*)\",\n",
    "r\"Here is the text with diacritics added for clarity:\\s*\\n+(.*?)\\n\",\n",
    "r\"The full phrase with diacritics would be:\\s*\\n+(.*?)\\n\",\n",
    "r\"Here is your text with optional diacritics added for clarity:\\s*\\n+(.*?)\\n\",\n",
    "r\"Here's the text with diacritics and accent marks(?: added)?:\\s*\\n*(.*)\",\n",
    "r'With diacritics and accent marks added, it becomes:\\s*(.*?)\\n\\n',\n",
    "r'\\*\\*With Diacritics and Accents \\(for emphasis\\):\\*\\*\\s*(.*?)\\n\\n',\n",
    "r'Here’s the sentence with added diacritical marks for clarity:\\s*(.*?)\\n\\n',\n",
    "r'with added diacritics and accent marks is:\\s*(.*?)\\n\\n',\n",
    "r'with added diacritics and accent marks:\\s*(.*?)\\n\\n',\n",
    "r'with diacritics as follows:\\s*(.*?)\\n\\n',\n",
    "r'With diacritics and accents:\\s*(.*?)\\n\\n',\n",
    "r'With diacritics and accent marks:\\s*(.*?)\\n\\n',\n",
    "r\"here's how you might write it:\\s*(.*?)\\n\\n\",\n",
    "r'correct diacritics added:\\s*(.*?)\\n\\n',\n",
    "r'proper tones and accents as follows:\\s*(.*?)\\n\\n',\n",
    "r'out in its Yoruba form:\\s*(.*?)\\n\\n',\n",
    "r'The corrected sentence might be:\\s*(.*?)\\n\\n',\n",
    "r'The sentence with diacritics is:\\s*(.*?)\\n\\n',\n",
    "r'look something like this:\\s*(.*?)\\n\\n',\n",
    "r'the sentence with diacritics added:\\s*(.*?)\\n\\n',\n",
    "r'sentence with the correct diacritics:\\s*(.*?)\\n\\n',\n",
    "r'With diacritics added for proper tones:\\s*(.*?)\\n\\n',\n",
    "r'correct diacritics and accents would be:\\s*(.*?)\\n\\n',\n",
    "r'depending on the tonal rules of Yoruba:\\s*(.*?)\\n\\n',\n",
    "r'sentence with the appropriate diacritics:\\s*(.*?)\\n\\n',\n",
    "r'is properly marked as \"\"bicycle\"\":\\s*(.*?)\\n\\n',\n",
    "r'spelled out in its Yoruba form:\\s*(.*?)\\n\\n',\n",
    "r'including the correct spelling of \"\"olori\"\":\\s*(.*?)\\n\\n',\n",
    "r'appropriate diacritics added:\\s*(.*?)\\n\\n'\n",
    "r'with added diacritics and accent marks:\\s*(.*?)\\n\\n',\n",
    "r'With diacritics added for emphasis:\\s*(.*?)\\n\\n',\n",
    "r'The corrected sentence might be:\\s*(.*?)\\n\\n',\n",
    "r'with diacritics as follows:\\s*(.*?)\\n\\n',\n",
    "r'he correct spelling of \"\"olori\"\":\\s*(.*?)\\n\\n',\n",
    "r' with added diacritics and accent marks would be:\\s*(.*?)\\n\\n',\n",
    "r'Sure, here is the text with diacritics and accent marks:\\s*(.*?)\\n',\n",
    "r'The text should be modified to include diacritics and accent marks as follows:\\s*(.*?)\\n',\n",
    "r\"Here's the text with diacritics and accent marks added:\\s*(.*?)\\n\\n\",\n",
    "r\"Here's the text with diacritics and accent marks added: \\s*(.*?)\\n\",\n",
    "r\"Here's the text with diacritics and accent marks:\\s*(.*?)\\n\",\n",
    "r\"Here's the text with diacritics and accent marks(?: added)?:\\s*\\n*(.*)\"\n",
    "r\"Here is the text with diacritics:\\s*\\n+(.*?)\\n\",\n",
    "r\"Here is the text with optional diacritics added for clarity:\\s*\\n+(.*?)\\n\",\n",
    "r\"you would write it as follows:\\s*\\n+(.*?)\\n\",]"
   ]
  },
  {
   "cell_type": "code",
   "execution_count": null,
   "metadata": {},
   "outputs": [],
   "source": [
    "def extract_answer(text):    \n",
    "    for m in matches_qwen:\n",
    "        if re.search(m, text, re.DOTALL):\n",
    "            return re.search(m, text, re.DOTALL).group(1).replace(\"*\", \" \").replace(\"`\", \"\").replace('\"', \" \").strip()\n",
    "    return text.replace(\"*\", \"\").replace(\"`\", \" \").replace('\"', \" \").strip()"
   ]
  },
  {
   "cell_type": "markdown",
   "metadata": {},
   "source": [
    "### Sample usage"
   ]
  },
  {
   "cell_type": "code",
   "execution_count": null,
   "metadata": {},
   "outputs": [
    {
     "data": {
      "application/vnd.microsoft.datawrangler.viewer.v0+json": {
       "columns": [
        {
         "name": "index",
         "rawType": "int64",
         "type": "integer"
        },
        {
         "name": "sentence",
         "rawType": "object",
         "type": "string"
        },
        {
         "name": "undiacritized",
         "rawType": "object",
         "type": "string"
        },
        {
         "name": "normalized",
         "rawType": "object",
         "type": "string"
        },
        {
         "name": "root",
         "rawType": "object",
         "type": "string"
        },
        {
         "name": "root_meaning",
         "rawType": "object",
         "type": "string"
        },
        {
         "name": "response",
         "rawType": "object",
         "type": "string"
        }
       ],
       "conversionMethod": "pd.DataFrame",
       "ref": "5e0069ec-68f0-41fb-9060-fde36341ff47",
       "rows": [
        [
         "0",
         "Ọ̀mọ̀ pọ̀ nínú igbó láti gé",
         "Òmò pò ninu igbo lati ge",
         "òmò pò ninu igbo lati ge",
         "Ọ̀mọ̀",
         "Tree of the banyan family",
         "Òmò pò nínú ígbò láti gé-ẹ̀rú.Here's the text with diacritical marks added:-  pò  remains the same as it already has the necessary diacritic.-  nínú  has a circumflex accent on the  í .-  ígbò  has a circumflex accent on the  í .-  láti  remains the same.-  gé-ẹ̀rú  has a grave accent on the  ẹ̀ ."
        ],
        [
         "1",
         "Gbogbo ẹni ti o ṣe owò ni yíò jèrè rẹ̀",
         "Gbogbo eni ti o se owo ni yio jere rè",
         "gbogbo eni ti o se owo ni yio jere rè",
         "Owò",
         "business",
         ""
        ],
        [
         "2",
         "Ọmọ to bá ṣe iṣẹ́ dédé dandan ni kí ó sinmi",
         "Omo to ba se isé dede dandan ni ki o sinmi",
         "omo to ba se isé dede dandan ni ki o sinmi",
         "Iṣẹ́",
         "work",
         ""
        ],
        [
         "3",
         "Mo fẹ́ se ìrìn-àjò ní Ọ̀sán òní",
         "Mo fé se irin-ajo ni Òsan oni",
         "mo fé se irin ajo ni òsan oni",
         "Ọ̀san",
         "Afternoon",
         ""
        ],
        [
         "4",
         "Òkun lolórí omi.",
         "Okun lolori omi.",
         "okun lolori omi",
         "Òkun",
         "Ocean.",
         "Ọkụnyị lotte ọmụma.Explanation:-  Okun  becomes  Ọkụnyị  with the Ọ and ụnyị diacritics.-  lolori  becomes  lotte  with the o and ọ diacritics.-  omi  becomes  ọmụma  with the ọ, ụ, and ma diacritics."
        ]
       ],
       "shape": {
        "columns": 6,
        "rows": 5
       }
      },
      "text/html": [
       "<div>\n",
       "<style scoped>\n",
       "    .dataframe tbody tr th:only-of-type {\n",
       "        vertical-align: middle;\n",
       "    }\n",
       "\n",
       "    .dataframe tbody tr th {\n",
       "        vertical-align: top;\n",
       "    }\n",
       "\n",
       "    .dataframe thead th {\n",
       "        text-align: right;\n",
       "    }\n",
       "</style>\n",
       "<table border=\"1\" class=\"dataframe\">\n",
       "  <thead>\n",
       "    <tr style=\"text-align: right;\">\n",
       "      <th></th>\n",
       "      <th>sentence</th>\n",
       "      <th>undiacritized</th>\n",
       "      <th>normalized</th>\n",
       "      <th>root</th>\n",
       "      <th>root_meaning</th>\n",
       "      <th>response</th>\n",
       "    </tr>\n",
       "  </thead>\n",
       "  <tbody>\n",
       "    <tr>\n",
       "      <th>0</th>\n",
       "      <td>Ọ̀mọ̀ pọ̀ nínú igbó láti gé</td>\n",
       "      <td>Òmò pò ninu igbo lati ge</td>\n",
       "      <td>òmò pò ninu igbo lati ge</td>\n",
       "      <td>Ọ̀mọ̀</td>\n",
       "      <td>Tree of the banyan family</td>\n",
       "      <td>Òmò pò nínú ígbò láti gé-ẹ̀rú.Here's the text ...</td>\n",
       "    </tr>\n",
       "    <tr>\n",
       "      <th>1</th>\n",
       "      <td>Gbogbo ẹni ti o ṣe owò ni yíò jèrè rẹ̀</td>\n",
       "      <td>Gbogbo eni ti o se owo ni yio jere rè</td>\n",
       "      <td>gbogbo eni ti o se owo ni yio jere rè</td>\n",
       "      <td>Owò</td>\n",
       "      <td>business</td>\n",
       "      <td></td>\n",
       "    </tr>\n",
       "    <tr>\n",
       "      <th>2</th>\n",
       "      <td>Ọmọ to bá ṣe iṣẹ́ dédé dandan ni kí ó sinmi</td>\n",
       "      <td>Omo to ba se isé dede dandan ni ki o sinmi</td>\n",
       "      <td>omo to ba se isé dede dandan ni ki o sinmi</td>\n",
       "      <td>Iṣẹ́</td>\n",
       "      <td>work</td>\n",
       "      <td></td>\n",
       "    </tr>\n",
       "    <tr>\n",
       "      <th>3</th>\n",
       "      <td>Mo fẹ́ se ìrìn-àjò ní Ọ̀sán òní</td>\n",
       "      <td>Mo fé se irin-ajo ni Òsan oni</td>\n",
       "      <td>mo fé se irin ajo ni òsan oni</td>\n",
       "      <td>Ọ̀san</td>\n",
       "      <td>Afternoon</td>\n",
       "      <td></td>\n",
       "    </tr>\n",
       "    <tr>\n",
       "      <th>4</th>\n",
       "      <td>Òkun lolórí omi.</td>\n",
       "      <td>Okun lolori omi.</td>\n",
       "      <td>okun lolori omi</td>\n",
       "      <td>Òkun</td>\n",
       "      <td>Ocean.</td>\n",
       "      <td>Ọkụnyị lotte ọmụma.Explanation:-  Okun  become...</td>\n",
       "    </tr>\n",
       "  </tbody>\n",
       "</table>\n",
       "</div>"
      ],
      "text/plain": [
       "                                      sentence  \\\n",
       "0                  Ọ̀mọ̀ pọ̀ nínú igbó láti gé   \n",
       "1       Gbogbo ẹni ti o ṣe owò ni yíò jèrè rẹ̀   \n",
       "2  Ọmọ to bá ṣe iṣẹ́ dédé dandan ni kí ó sinmi   \n",
       "3              Mo fẹ́ se ìrìn-àjò ní Ọ̀sán òní   \n",
       "4                             Òkun lolórí omi.   \n",
       "\n",
       "                                 undiacritized  \\\n",
       "0                  Òmò pò ninu igbo lati ge   \n",
       "1       Gbogbo eni ti o se owo ni yio jere rè   \n",
       "2  Omo to ba se isé dede dandan ni ki o sinmi   \n",
       "3              Mo fé se irin-ajo ni Òsan oni   \n",
       "4                             Okun lolori omi.   \n",
       "\n",
       "                                   normalized   root  \\\n",
       "0                    òmò pò ninu igbo lati ge  Ọ̀mọ̀   \n",
       "1       gbogbo eni ti o se owo ni yio jere rè    Owò   \n",
       "2  omo to ba se isé dede dandan ni ki o sinmi   Iṣẹ́   \n",
       "3               mo fé se irin ajo ni òsan oni  Ọ̀san   \n",
       "4                             okun lolori omi   Òkun   \n",
       "\n",
       "                root_meaning  \\\n",
       "0  Tree of the banyan family   \n",
       "1                   business   \n",
       "2                       work   \n",
       "3                  Afternoon   \n",
       "4                     Ocean.   \n",
       "\n",
       "                                            response  \n",
       "0  Òmò pò nínú ígbò láti gé-ẹ̀rú.Here's the text ...  \n",
       "1                                                     \n",
       "2                                                     \n",
       "3                                                     \n",
       "4  Ọkụnyị lotte ọmụma.Explanation:-  Okun  become...  "
      ]
     },
     "execution_count": 260,
     "metadata": {},
     "output_type": "execute_result"
    }
   ],
   "source": [
    "df_qwen = pd.read_csv(\"/l/users/hawau.toyin/NLP804/_finetune_results/_finetune_results/Qwen2/test.csv\", sep=\"\\t\")\n",
    "df_qwen['response'] = df_qwen['response'].apply(extract_answer)\n",
    "df_qwen.to_csv(\"/l/users/hawau.toyin/NLP804/_finetune_results/_finetune_results/Qwen2/test_.csv\", sep=\"\\t\", index=False)\n",
    "df_qwen.head()"
   ]
  },
  {
   "cell_type": "code",
   "execution_count": null,
   "metadata": {},
   "outputs": [
    {
     "name": "stdout",
     "output_type": "stream",
     "text": [
      "Evaluating response\n",
      "WER: 84.18, CER: 35.34\n"
     ]
    }
   ],
   "source": [
    "df = pd.read_csv(\"//l/users/hawau.toyin/NLP804/_finetune_results/_finetune_results/Qwen2/test_.csv\", sep=\"\\t\", on_bad_lines='skip')\n",
    "model = \"response\"\n",
    "print(f\"Evaluating {model}\")\n",
    "df[model] = df[model].apply(lambda x: remove_punctuation(str(x)))\n",
    "wer_score = wer.compute(references=df['normalized'].tolist(), predictions=df[model].tolist())\n",
    "cer_score = cer.compute(references=df['normalized'].tolist(), predictions=df[model].tolist())\n",
    "print(f\"WER: {100 * wer_score:.2f}, CER: {100 * cer_score:.2f}\")"
   ]
  }
 ],
 "metadata": {
  "kernelspec": {
   "display_name": "speech",
   "language": "python",
   "name": "python3"
  },
  "language_info": {
   "codemirror_mode": {
    "name": "ipython",
    "version": 3
   },
   "file_extension": ".py",
   "mimetype": "text/x-python",
   "name": "python",
   "nbconvert_exporter": "python",
   "pygments_lexer": "ipython3",
   "version": "3.10.16"
  }
 },
 "nbformat": 4,
 "nbformat_minor": 2
}
